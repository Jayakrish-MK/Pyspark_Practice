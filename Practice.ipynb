{
 "cells": [
  {
   "cell_type": "code",
   "execution_count": 1,
   "id": "4c22971f-35a3-4948-a2e4-409f8444878c",
   "metadata": {},
   "outputs": [],
   "source": [
    "# Importing Libraries\n",
    "from pyspark.sql import SparkSession\n",
    "from pyspark.sql.types import StructType, StructField,IntegerType,StringType\n",
    "import pyspark.sql.functions as func"
   ]
  },
  {
   "cell_type": "code",
   "execution_count": 2,
   "id": "6e503ca3-cf3f-473b-94d4-10920d60405f",
   "metadata": {},
   "outputs": [
    {
     "name": "stderr",
     "output_type": "stream",
     "text": [
      "25/02/21 11:11:28 WARN Utils: Your hostname, krish-V resolves to a loopback address: 127.0.1.1; using 172.17.127.111 instead (on interface eth0)\n",
      "25/02/21 11:11:28 WARN Utils: Set SPARK_LOCAL_IP if you need to bind to another address\n",
      "Setting default log level to \"WARN\".\n",
      "To adjust logging level use sc.setLogLevel(newLevel). For SparkR, use setLogLevel(newLevel).\n"
     ]
    }
   ],
   "source": [
    "# creating SparkSession\n",
    "spark=SparkSession.builder.appName(\"FirstApp\")\\\n",
    "                    .config(\"spark.ui.port\", \"4040\")\\\n",
    "                        .getOrCreate()\n"
   ]
  },
  {
   "cell_type": "code",
   "execution_count": 3,
   "id": "913ab45c-5b1f-4c84-a4fd-b7ef2d2b1a1f",
   "metadata": {},
   "outputs": [],
   "source": [
    "# Defining the SparkSession\n",
    "myschema=StructType([\\\n",
    "                    StructField(\"userID\",IntegerType(),True),\n",
    "                    StructField(\"name\",StringType(),True),\n",
    "                    StructField(\"age\",IntegerType(),True),\n",
    "                    StructField(\"friends\",IntegerType(),True),\n",
    "                    ])"
   ]
  },
  {
   "cell_type": "code",
   "execution_count": 4,
   "id": "2e8b1a14-473c-422f-a676-669738dac298",
   "metadata": {},
   "outputs": [],
   "source": [
    "# Creating DataFrame on a csv file\n",
    "people = spark.read.format(\"csv\") \\\n",
    "        .schema(myschema) \\\n",
    "        .option(\"path\", \"file:///home/krish/Spark_practice/fakefriends.csv\") \\\n",
    "        .load()\n"
   ]
  },
  {
   "cell_type": "code",
   "execution_count": 5,
   "id": "b90135cd-e6eb-428b-995c-4d1fa6436042",
   "metadata": {},
   "outputs": [],
   "source": [
    "#Performing all transformations\n",
    "output = people.select(people.userID,people.name\\\n",
    "                        ,people.age,people.friends)\\\n",
    "                .where(people.age<30).withColumn('insert_ts',func.current_timestamp())\\\n",
    "                .orderBy(people.userID)"
   ]
  },
  {
   "cell_type": "code",
   "execution_count": 6,
   "id": "b97ac993-f2ee-4c11-a6f1-209cc104d1a3",
   "metadata": {},
   "outputs": [
    {
     "data": {
      "text/plain": [
       "112"
      ]
     },
     "execution_count": 6,
     "metadata": {},
     "output_type": "execute_result"
    }
   ],
   "source": [
    "#taking the count of o/p DataFrame\n",
    "output.count()"
   ]
  },
  {
   "cell_type": "code",
   "execution_count": 13,
   "id": "855a7e4e-d498-4c50-a65d-695f4f67d68a",
   "metadata": {},
   "outputs": [],
   "source": [
    "# Creating a tempView\n",
    "output.createOrReplaceTempView(\"peoples\")"
   ]
  },
  {
   "cell_type": "code",
   "execution_count": 14,
   "id": "81206738-18ee-495b-b36b-90afd2cd3002",
   "metadata": {},
   "outputs": [
    {
     "name": "stdout",
     "output_type": "stream",
     "text": [
      "+--------+---+-------+--------------------+\n",
      "|    name|age|friends|           insert_ts|\n",
      "+--------+---+-------+--------------------+\n",
      "|Jean-Luc| 26|      2|2025-02-20 17:58:...|\n",
      "|    Hugh| 27|    181|2025-02-20 17:58:...|\n",
      "|  Weyoun| 22|    323|2025-02-20 17:58:...|\n",
      "|   Miles| 19|    268|2025-02-20 17:58:...|\n",
      "|  Julian| 25|      1|2025-02-20 17:58:...|\n",
      "|     Ben| 21|    445|2025-02-20 17:58:...|\n",
      "|  Julian| 22|    100|2025-02-20 17:58:...|\n",
      "|     Nog| 26|    281|2025-02-20 17:58:...|\n",
      "| Beverly| 27|    305|2025-02-20 17:58:...|\n",
      "|    Morn| 25|     96|2025-02-20 17:58:...|\n",
      "|   Brunt| 24|     49|2025-02-20 17:58:...|\n",
      "|     Nog| 20|      1|2025-02-20 17:58:...|\n",
      "| Beverly| 19|    269|2025-02-20 17:58:...|\n",
      "|   Brunt| 19|      5|2025-02-20 17:58:...|\n",
      "|  Geordi| 20|    100|2025-02-20 17:58:...|\n",
      "|  Geordi| 21|    477|2025-02-20 17:58:...|\n",
      "|  Kasidy| 22|    179|2025-02-20 17:58:...|\n",
      "|   Brunt| 20|    384|2025-02-20 17:58:...|\n",
      "|     Ben| 28|    311|2025-02-20 17:58:...|\n",
      "|    Worf| 24|    492|2025-02-20 17:58:...|\n",
      "+--------+---+-------+--------------------+\n",
      "only showing top 20 rows\n",
      "\n"
     ]
    }
   ],
   "source": [
    "# Running a simple spark sql query\n",
    "spark.sql(\"select name,age,friends,insert_ts from peoples\").show()"
   ]
  },
  {
   "cell_type": "markdown",
   "id": "6b1d442f-52e1-4978-a060-89bd1c1b63b7",
   "metadata": {},
   "source": [
    "#RDD"
   ]
  },
  {
   "cell_type": "code",
   "execution_count": 9,
   "id": "3916c98b-08f6-45da-bc82-d0b4f17ade2b",
   "metadata": {},
   "outputs": [
    {
     "name": "stdout",
     "output_type": "stream",
     "text": [
      "[('Alice', 25), ('Bob', 30)]\n"
     ]
    }
   ],
   "source": [
    "rdd = spark.sparkContext.parallelize([(\"Alice\",25),(\"Bob\",30)])\n",
    "print(rdd.collect())"
   ]
  },
  {
   "cell_type": "markdown",
   "id": "4d037777-a3f5-4248-a399-8f9393b7fd95",
   "metadata": {},
   "source": [
    "#DF"
   ]
  },
  {
   "cell_type": "code",
   "execution_count": 10,
   "id": "f237d5dd-e00e-4ad2-af71-fcdb13fdda15",
   "metadata": {},
   "outputs": [
    {
     "name": "stdout",
     "output_type": "stream",
     "text": [
      "+-----+---+\n",
      "| name|age|\n",
      "+-----+---+\n",
      "|Alice| 25|\n",
      "|  Bob| 30|\n",
      "+-----+---+\n",
      "\n"
     ]
    }
   ],
   "source": [
    "from pyspark.sql import Row\n",
    "\n",
    "df = spark.createDataFrame([Row(name=\"Alice\", age=25), Row(name=\"Bob\", age=30)])\n",
    "df.show()\n"
   ]
  },
  {
   "cell_type": "code",
   "execution_count": null,
   "id": "98718fd7-d776-4d8d-b0c9-e9d32dc671ed",
   "metadata": {},
   "outputs": [],
   "source": []
  }
 ],
 "metadata": {
  "kernelspec": {
   "display_name": "Python 3 (ipykernel)",
   "language": "python",
   "name": "python3"
  },
  "language_info": {
   "codemirror_mode": {
    "name": "ipython",
    "version": 3
   },
   "file_extension": ".py",
   "mimetype": "text/x-python",
   "name": "python",
   "nbconvert_exporter": "python",
   "pygments_lexer": "ipython3",
   "version": "3.10.12"
  }
 },
 "nbformat": 4,
 "nbformat_minor": 5
}
