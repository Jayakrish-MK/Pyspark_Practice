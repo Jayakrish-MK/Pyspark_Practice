{
 "cells": [
  {
   "cell_type": "code",
   "execution_count": 11,
   "id": "6d769375-f92b-441d-b854-b94303facee2",
   "metadata": {},
   "outputs": [],
   "source": [
    "from pyspark.sql import SparkSession\n",
    "from pyspark.sql.functions import col,avg\n",
    "import psycopg2"
   ]
  },
  {
   "cell_type": "code",
   "execution_count": 12,
   "id": "be14b4e6-3476-4c48-886f-484379c17924",
   "metadata": {},
   "outputs": [],
   "source": [
    "spark = SparkSession.builder\\\n",
    ".appName('Pyspark_PostgreSQL_project')\\\n",
    ".config('spark.jars','/home/krish/postgresql-42.7.5.jar')\\\n",
    ".getOrCreate()"
   ]
  },
  {
   "cell_type": "code",
   "execution_count": 13,
   "id": "8bea0ca3-ff11-4e9b-a55a-f877855a943e",
   "metadata": {},
   "outputs": [],
   "source": [
    "pg_url = 'jdbc:postgresql://localhost:5432/employee_salary_analysis'\n",
    "pg_properties={\n",
    "    'user':'postgres',\n",
    "    'password':'pgroot',\n",
    "    'driver':'org.postgresql.Driver'\n",
    "}\n",
    "    "
   ]
  },
  {
   "cell_type": "code",
   "execution_count": 14,
   "id": "a7c197ed-3a02-4adf-b259-f90c2a56b6e6",
   "metadata": {},
   "outputs": [],
   "source": [
    "df =spark.read.jdbc(url=pg_url,table='employee_salary',properties=pg_properties)"
   ]
  },
  {
   "cell_type": "code",
   "execution_count": 15,
   "id": "3cae63ff-7349-4c48-a706-616093f4621c",
   "metadata": {},
   "outputs": [
    {
     "data": {
      "text/plain": [
       "DataFrame[emp_id: int, emp_name: string, department: string, salary: double, join_date: date]"
      ]
     },
     "execution_count": 15,
     "metadata": {},
     "output_type": "execute_result"
    }
   ],
   "source": [
    "df"
   ]
  },
  {
   "cell_type": "code",
   "execution_count": 16,
   "id": "12a6210d-748c-4508-8831-5498b135291f",
   "metadata": {},
   "outputs": [],
   "source": [
    "transformed_df=df.filter(col('salary')>70000)\\\n",
    ".groupby('department')\\\n",
    ".agg(avg('salary').alias('avg_salary'))"
   ]
  },
  {
   "cell_type": "code",
   "execution_count": 8,
   "id": "a980d5db-4cf3-4e5d-a845-e2d18c230776",
   "metadata": {},
   "outputs": [
    {
     "name": "stderr",
     "output_type": "stream",
     "text": [
      "                                                                                "
     ]
    }
   ],
   "source": [
    "transformed_df.write.jdbc(url=pg_url,table='salary_analysis',mode='overwrite',properties=pg_properties)"
   ]
  },
  {
   "cell_type": "code",
   "execution_count": 17,
   "id": "c4e615a6-23c0-4f87-8c69-68d400ed60fa",
   "metadata": {},
   "outputs": [
    {
     "name": "stdout",
     "output_type": "stream",
     "text": [
      "+-----------+----------+\n",
      "| department|avg_salary|\n",
      "+-----------+----------+\n",
      "|Engineering|  105000.0|\n",
      "|  Marketing|   75000.0|\n",
      "+-----------+----------+\n",
      "\n"
     ]
    }
   ],
   "source": [
    "transformed_df.show()"
   ]
  },
  {
   "cell_type": "code",
   "execution_count": 18,
   "id": "dc0196b3-6208-4f6c-929f-ac8dae255372",
   "metadata": {},
   "outputs": [],
   "source": [
    "spark.stop()"
   ]
  },
  {
   "cell_type": "code",
   "execution_count": null,
   "id": "595ed7a1-70e2-49d1-9f23-4a55e2284b41",
   "metadata": {},
   "outputs": [],
   "source": []
  }
 ],
 "metadata": {
  "kernelspec": {
   "display_name": "Python 3 (ipykernel)",
   "language": "python",
   "name": "python3"
  },
  "language_info": {
   "codemirror_mode": {
    "name": "ipython",
    "version": 3
   },
   "file_extension": ".py",
   "mimetype": "text/x-python",
   "name": "python",
   "nbconvert_exporter": "python",
   "pygments_lexer": "ipython3",
   "version": "3.10.12"
  }
 },
 "nbformat": 4,
 "nbformat_minor": 5
}
