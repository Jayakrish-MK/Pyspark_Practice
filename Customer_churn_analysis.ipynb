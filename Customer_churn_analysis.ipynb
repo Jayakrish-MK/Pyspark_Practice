{
 "cells": [
  {
   "cell_type": "code",
   "execution_count": 5,
   "id": "82d8fa1e-3db8-4547-8013-2dd2fd049bac",
   "metadata": {},
   "outputs": [],
   "source": [
    "import warnings\n",
    "warnings.filterwarnings('ignore')"
   ]
  },
  {
   "cell_type": "code",
   "execution_count": 6,
   "id": "8f256830-d368-4ab5-9e77-d2b359a32b06",
   "metadata": {},
   "outputs": [],
   "source": [
    "from pyspark.sql import SparkSession\n",
    "from pyspark.sql.functions import col,count,sum,avg,max,min,datediff,current_date"
   ]
  },
  {
   "cell_type": "code",
   "execution_count": 7,
   "id": "02c55203-2fb9-4352-987b-eb52066261bc",
   "metadata": {},
   "outputs": [],
   "source": [
    "pg_url = 'jdbc:postgresql://localhost:5432/Customer_Churn_Analysis'\n",
    "pg_properties = {\n",
    "    'user':'postgres',\n",
    "    'password':'pgroot',\n",
    "    'driver':'org.postgresql.Driver'\n",
    "}"
   ]
  },
  {
   "cell_type": "code",
   "execution_count": 8,
   "id": "f6b4d868-3cba-4fcb-82ef-cc9d581891b5",
   "metadata": {},
   "outputs": [],
   "source": [
    "spark=SparkSession.builder\\\n",
    ".appName('CustomerChurnAnalysis')\\\n",
    ".config('spark.jars','/home/krish/postgresql-42.7.5.jar')\\\n",
    ".getOrCreate()"
   ]
  },
  {
   "cell_type": "code",
   "execution_count": 9,
   "id": "848a7b40-9a02-4a96-bbb8-385410b1976d",
   "metadata": {},
   "outputs": [],
   "source": [
    "customers_df=spark.read.jdbc(pg_url,'customers',properties=pg_properties)\n",
    "transactions_df=spark.read.jdbc(pg_url,'transactions',properties=pg_properties)\n",
    "churn_df=spark.read.jdbc(pg_url,'churn_status',properties=pg_properties)"
   ]
  },
  {
   "cell_type": "code",
   "execution_count": 10,
   "id": "ffba1e8b-365b-484a-9b24-e048c1fae092",
   "metadata": {},
   "outputs": [],
   "source": [
    "# Find last Transaction date for each customer\n",
    "\n",
    "last_transaction=transactions_df.groupBy('customer_id')\\\n",
    ".agg(max('transaction_date').alias('last_purchase_date'))"
   ]
  },
  {
   "cell_type": "code",
   "execution_count": 11,
   "id": "623daf7c-5a2a-4137-825d-1675edc13813",
   "metadata": {},
   "outputs": [],
   "source": [
    "# calculate days since last transaction\n",
    "\n",
    "churn_analysis = last_transaction.withColumn('days_since_last_purchase',\n",
    "                                            datediff(current_date(),col('last_purchase_date')))"
   ]
  },
  {
   "cell_type": "code",
   "execution_count": 12,
   "id": "1c2493dd-b3ae-4245-9c6a-770f95332627",
   "metadata": {},
   "outputs": [],
   "source": [
    "# merge with churn status\n",
    "\n",
    "final_churn_df=churn_analysis.join(churn_df,'customer_id','left')"
   ]
  },
  {
   "cell_type": "code",
   "execution_count": 13,
   "id": "9f8dd50d-c98d-400c-a083-2e4a3989c1f4",
   "metadata": {},
   "outputs": [],
   "source": [
    "# identify high risk customers(no purchase in 6+ months)\n",
    "\n",
    "churn_risk = final_churn_df.filter(col('days_since_last_purchase')>180)"
   ]
  },
  {
   "cell_type": "code",
   "execution_count": 14,
   "id": "42aefc29-feb4-4b3a-8d2b-a6ce0bb8b263",
   "metadata": {},
   "outputs": [
    {
     "name": "stdout",
     "output_type": "stream",
     "text": [
      "Customers at High risk of churn: \n",
      "+-----------+------------------+------------------------+----------+\n",
      "|customer_id|last_purchase_date|days_since_last_purchase|is_churned|\n",
      "+-----------+------------------+------------------------+----------+\n",
      "|          1|        2024-01-10|                     409|         0|\n",
      "|          3|        2024-02-10|                     378|         0|\n",
      "|          5|        2023-12-20|                     430|         1|\n",
      "|          4|        2023-11-15|                     465|         1|\n",
      "|          2|        2023-10-05|                     506|         1|\n",
      "+-----------+------------------+------------------------+----------+\n",
      "\n"
     ]
    }
   ],
   "source": [
    "print('Customers at High risk of churn: ')\n",
    "churn_risk.show(5)"
   ]
  },
  {
   "cell_type": "code",
   "execution_count": 15,
   "id": "687eb962-eefd-4f65-94b1-c06eab9d0dce",
   "metadata": {},
   "outputs": [],
   "source": [
    "churn_risk.write.jdbc(pg_url,'churn_risk_customers',mode='overwrite',properties=pg_properties)"
   ]
  },
  {
   "cell_type": "code",
   "execution_count": null,
   "id": "91430a66-7d2d-47dd-a7d8-63e31673e4d1",
   "metadata": {},
   "outputs": [],
   "source": []
  }
 ],
 "metadata": {
  "kernelspec": {
   "display_name": "Python 3 (ipykernel)",
   "language": "python",
   "name": "python3"
  },
  "language_info": {
   "codemirror_mode": {
    "name": "ipython",
    "version": 3
   },
   "file_extension": ".py",
   "mimetype": "text/x-python",
   "name": "python",
   "nbconvert_exporter": "python",
   "pygments_lexer": "ipython3",
   "version": "3.10.12"
  }
 },
 "nbformat": 4,
 "nbformat_minor": 5
}
