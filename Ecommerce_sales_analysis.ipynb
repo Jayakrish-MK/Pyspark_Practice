{
 "cells": [
  {
   "cell_type": "code",
   "execution_count": 12,
   "id": "3521e88a-1678-44e8-85a1-ce92f6e9b9b9",
   "metadata": {},
   "outputs": [],
   "source": [
    "import warnings\n",
    "warnings.filterwarnings(\"ignore\")\n"
   ]
  },
  {
   "cell_type": "code",
   "execution_count": 13,
   "id": "c05780d2-ab0b-45cb-aba8-17f66a569dd8",
   "metadata": {},
   "outputs": [],
   "source": [
    "from pyspark.sql import SparkSession\n",
    "from pyspark.sql.functions import col,count,sum,avg,month,year"
   ]
  },
  {
   "cell_type": "code",
   "execution_count": 14,
   "id": "50c8ba2b-4fed-4d4b-b48b-b8166179b47e",
   "metadata": {},
   "outputs": [],
   "source": [
    "pg_url = 'jdbc:postgresql://localhost:5432/Ecommerce_Sales_Analysis'\n",
    "pg_properties = {\n",
    "    'user':'postgres',\n",
    "    'password':'pgroot',\n",
    "    'driver':'org.postgresql.Driver'\n",
    "}"
   ]
  },
  {
   "cell_type": "code",
   "execution_count": 15,
   "id": "e19fe61c-0a9b-49c3-a1fd-9ccf8da82c86",
   "metadata": {},
   "outputs": [],
   "source": [
    "spark = SparkSession.builder\\\n",
    ".appName('EcommerceSalesAnalysis')\\\n",
    ".config('spark.jars','/home/krish/postgresql-42.7.5.jar')\\\n",
    ".getOrCreate()"
   ]
  },
  {
   "cell_type": "code",
   "execution_count": 4,
   "id": "5b07de24-b134-45b2-8339-4baf12d247f9",
   "metadata": {},
   "outputs": [],
   "source": [
    "orders_df = spark.read.jdbc(pg_url,'orders',properties=pg_properties)\n",
    "products_df = spark.read.jdbc(pg_url,'products',properties=pg_properties)\n",
    "customers_df=spark.read.jdbc(pg_url,'customers',properties=pg_properties)"
   ]
  },
  {
   "cell_type": "code",
   "execution_count": 5,
   "id": "2a18185e-9dfe-4ea7-8838-82eb86dbc34a",
   "metadata": {},
   "outputs": [],
   "source": [
    "# Top selling products\n",
    "\n",
    "top_products = orders_df.groupBy('product_id')\\\n",
    ".agg(count('order_id').alias('total_orders'))\\\n",
    ".orderBy(col('total_orders').desc())\n"
   ]
  },
  {
   "cell_type": "code",
   "execution_count": 6,
   "id": "3c217aca-0d6b-46c7-a495-b29d1ca4bc21",
   "metadata": {},
   "outputs": [],
   "source": [
    "# Repeat Customers (Customers with more than 5 orders)\n",
    "\n",
    "repeat_customers=orders_df.groupBy('customer_id')\\\n",
    ".agg(count('order_id').alias('order_count'))\\\n",
    ".filter(col('order_count')>5)"
   ]
  },
  {
   "cell_type": "code",
   "execution_count": 7,
   "id": "88439ee6-d677-4915-809f-9e39f13a3866",
   "metadata": {},
   "outputs": [],
   "source": [
    "# Monthly revenue trends\n",
    "\n",
    "monthly_revenue = orders_df.withColumn('month',month(col('order_date')))\\\n",
    ".withColumn('year',year(col('order_date')))\\\n",
    ".groupBy('year','month')\\\n",
    ".agg(sum('total_amount').alias('monthly_revenue'))\\\n",
    ".orderBy('year','month')"
   ]
  },
  {
   "cell_type": "code",
   "execution_count": 8,
   "id": "0959409e-3391-43c9-bfa2-fab27ea23650",
   "metadata": {},
   "outputs": [
    {
     "name": "stdout",
     "output_type": "stream",
     "text": [
      "Top Selling Products: \n",
      "+----------+------------+\n",
      "|product_id|total_orders|\n",
      "+----------+------------+\n",
      "|         1|           3|\n",
      "|         3|           3|\n",
      "|         5|           3|\n",
      "|         4|           3|\n",
      "|         2|           3|\n",
      "+----------+------------+\n",
      "\n"
     ]
    }
   ],
   "source": [
    "print('Top Selling Products: ')\n",
    "top_products.show(5)"
   ]
  },
  {
   "cell_type": "code",
   "execution_count": 9,
   "id": "f1866144-efb9-4915-bf0e-05d485b3eb89",
   "metadata": {},
   "outputs": [
    {
     "name": "stdout",
     "output_type": "stream",
     "text": [
      "Repeat customers: \n",
      "+-----------+-----------+\n",
      "|customer_id|order_count|\n",
      "+-----------+-----------+\n",
      "+-----------+-----------+\n",
      "\n"
     ]
    }
   ],
   "source": [
    "print('Repeat customers: ')\n",
    "repeat_customers.show(5)"
   ]
  },
  {
   "cell_type": "code",
   "execution_count": 10,
   "id": "d55f77d6-6708-45d5-8f97-e2f85641cc6a",
   "metadata": {},
   "outputs": [
    {
     "name": "stdout",
     "output_type": "stream",
     "text": [
      "Monthly Revenue Trends: \n",
      "+----+-----+---------------+\n",
      "|year|month|monthly_revenue|\n",
      "+----+-----+---------------+\n",
      "|2024|    2|        6460.00|\n",
      "+----+-----+---------------+\n",
      "\n"
     ]
    }
   ],
   "source": [
    "print('Monthly Revenue Trends: ')\n",
    "monthly_revenue.show(5)"
   ]
  },
  {
   "cell_type": "code",
   "execution_count": 11,
   "id": "6fd79d13-e9b5-4dd2-97e7-e20412e1dc02",
   "metadata": {},
   "outputs": [],
   "source": [
    "top_products.write.jdbc(pg_url,'top_products',mode='overwrite',properties=pg_properties)\n",
    "repeat_customers.write.jdbc(pg_url,'repeat_customers',mode='overwrite',properties=pg_properties)\n",
    "monthly_revenue.write.jdbc(pg_url,'monthly_revenue',mode='overwrite',properties=pg_properties)"
   ]
  },
  {
   "cell_type": "code",
   "execution_count": 16,
   "id": "1e61fa20-4f2b-458a-aaa9-2f8f001d6e99",
   "metadata": {},
   "outputs": [],
   "source": [
    "spark.stop()"
   ]
  },
  {
   "cell_type": "code",
   "execution_count": null,
   "id": "2b02e3de-3779-42d1-a37d-0b71f485691f",
   "metadata": {},
   "outputs": [],
   "source": []
  }
 ],
 "metadata": {
  "kernelspec": {
   "display_name": "Python 3 (ipykernel)",
   "language": "python",
   "name": "python3"
  },
  "language_info": {
   "codemirror_mode": {
    "name": "ipython",
    "version": 3
   },
   "file_extension": ".py",
   "mimetype": "text/x-python",
   "name": "python",
   "nbconvert_exporter": "python",
   "pygments_lexer": "ipython3",
   "version": "3.10.12"
  }
 },
 "nbformat": 4,
 "nbformat_minor": 5
}
